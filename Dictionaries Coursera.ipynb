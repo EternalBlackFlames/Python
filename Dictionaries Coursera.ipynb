{
 "cells": [
  {
   "cell_type": "code",
   "execution_count": 1,
   "metadata": {},
   "outputs": [
    {
     "name": "stdout",
     "output_type": "stream",
     "text": [
      "{'money': 12, 'notes': 5, 'tissues': 35}\n"
     ]
    }
   ],
   "source": [
    "purse = dict()\n",
    "purse['money'] = 12\n",
    "purse['notes'] = 5\n",
    "purse['tissues'] = 35\n",
    "print(purse)"
   ]
  },
  {
   "cell_type": "code",
   "execution_count": 2,
   "metadata": {},
   "outputs": [
    {
     "name": "stdout",
     "output_type": "stream",
     "text": [
      "5\n",
      "8\n",
      "{'money': 12, 'notes': 8, 'tissues': 35}\n"
     ]
    }
   ],
   "source": [
    "print(purse['notes'])\n",
    "purse['notes'] += 3\n",
    "print(purse['notes'])\n",
    "print(purse)"
   ]
  },
  {
   "cell_type": "code",
   "execution_count": 3,
   "metadata": {},
   "outputs": [
    {
     "name": "stdout",
     "output_type": "stream",
     "text": [
      "{'money': 12, 'notes': 8, 'tissues': 35, 'card': 45}\n"
     ]
    }
   ],
   "source": [
    "purse['card'] = 45\n",
    "print(purse)"
   ]
  },
  {
   "cell_type": "code",
   "execution_count": 5,
   "metadata": {},
   "outputs": [
    {
     "data": {
      "text/plain": [
       "list"
      ]
     },
     "execution_count": 5,
     "metadata": {},
     "output_type": "execute_result"
    }
   ],
   "source": [
    "stu = [4,6,8,9]\n",
    "type(stu)"
   ]
  },
  {
   "cell_type": "code",
   "execution_count": 6,
   "metadata": {},
   "outputs": [
    {
     "data": {
      "text/plain": [
       "dict"
      ]
     },
     "execution_count": 6,
     "metadata": {},
     "output_type": "execute_result"
    }
   ],
   "source": [
    "type(purse)"
   ]
  },
  {
   "cell_type": "code",
   "execution_count": 7,
   "metadata": {},
   "outputs": [
    {
     "name": "stdout",
     "output_type": "stream",
     "text": [
      "[4, 6, 8, 9, 5]\n"
     ]
    }
   ],
   "source": [
    "stu.append(5)\n",
    "print(stu)"
   ]
  },
  {
   "cell_type": "code",
   "execution_count": 8,
   "metadata": {},
   "outputs": [
    {
     "name": "stdout",
     "output_type": "stream",
     "text": [
      "[10, 6, 8, 9, 5]\n"
     ]
    }
   ],
   "source": [
    "\n",
    "print(stu)"
   ]
  },
  {
   "cell_type": "code",
   "execution_count": 9,
   "metadata": {},
   "outputs": [
    {
     "name": "stdout",
     "output_type": "stream",
     "text": [
      "{'money': 12, 'notes': 8, 'tissues': 35, 'card': 0}\n"
     ]
    }
   ],
   "source": [
    "purse['card'] = 0\n",
    "print(purse)"
   ]
  },
  {
   "cell_type": "code",
   "execution_count": 18,
   "metadata": {},
   "outputs": [
    {
     "name": "stdout",
     "output_type": "stream",
     "text": [
      "Enter a line of text\n",
      "If you already know all the Machine Learning basics, you may wantto  skip  directly  to  Chapter  2.  If  you  are  not  sure,  try  to  answer  allthe questions listed at the end of the chapter before moving on.What Is Machine Learning?Machine  Learning  is  the  science  (and  art)  of  programming  computers  so  they  canlearn from data.Here is a slightly more general definition:[Machine  Learning  is  the]  field  of  study  that  gives  computers  the  ability  to  learnwithout being explicitly programmed.—Arthur Samuel, 1959And a more engineering-oriented one:A  computer  program  is  said  to  learn  from  experience  E  with  respect  to  some  task  Tand some performance measure P, if its performance on T, as measured by P, improveswith experience E.—Tom Mitchell, 1997For  example,  your  spam  filter  is  a  Machine  Learning  program  that  can  learn  to  flagspam given examples of spam emails (e.g., flagged by users) and examples of regular(nonspam, also called “ham”) emails. The examples that the system uses to learn arecalled the training set. Each training example is called a training instance (or sample).In this case, the task T is to flag spam for new emails, the experience E is the trainingdata,  and  the  performance  measure  P  needs  to  be  defined;  for  example,  you  can  usethe ratio of correctly classified emails. This particular performance measure is calledaccuracy and it is often used in classification tasks.If you just download a copy of Wikipedia, your computer has a l\n",
      "words: ['If', 'you', 'already', 'know', 'all', 'the', 'Machine', 'Learning', 'basics,', 'you', 'may', 'wantto', 'skip', 'directly', 'to', 'Chapter', '2.', 'If', 'you', 'are', 'not', 'sure,', 'try', 'to', 'answer', 'allthe', 'questions', 'listed', 'at', 'the', 'end', 'of', 'the', 'chapter', 'before', 'moving', 'on.What', 'Is', 'Machine', 'Learning?Machine', 'Learning', 'is', 'the', 'science', '(and', 'art)', 'of', 'programming', 'computers', 'so', 'they', 'canlearn', 'from', 'data.Here', 'is', 'a', 'slightly', 'more', 'general', 'definition:[Machine', 'Learning', 'is', 'the]', 'field', 'of', 'study', 'that', 'gives', 'computers', 'the', 'ability', 'to', 'learnwithout', 'being', 'explicitly', 'programmed.—Arthur', 'Samuel,', '1959And', 'a', 'more', 'engineering-oriented', 'one:A', 'computer', 'program', 'is', 'said', 'to', 'learn', 'from', 'experience', 'E', 'with', 'respect', 'to', 'some', 'task', 'Tand', 'some', 'performance', 'measure', 'P,', 'if', 'its', 'performance', 'on', 'T,', 'as', 'measured', 'by', 'P,', 'improveswith', 'experience', 'E.—Tom', 'Mitchell,', '1997For', 'example,', 'your', 'spam', 'filter', 'is', 'a', 'Machine', 'Learning', 'program', 'that', 'can', 'learn', 'to', 'flagspam', 'given', 'examples', 'of', 'spam', 'emails', '(e.g.,', 'flagged', 'by', 'users)', 'and', 'examples', 'of', 'regular(nonspam,', 'also', 'called', '“ham”)', 'emails.', 'The', 'examples', 'that', 'the', 'system', 'uses', 'to', 'learn', 'arecalled', 'the', 'training', 'set.', 'Each', 'training', 'example', 'is', 'called', 'a', 'training', 'instance', '(or', 'sample).In', 'this', 'case,', 'the', 'task', 'T', 'is', 'to', 'flag', 'spam', 'for', 'new', 'emails,', 'the', 'experience', 'E', 'is', 'the', 'trainingdata,', 'and', 'the', 'performance', 'measure', 'P', 'needs', 'to', 'be', 'defined;', 'for', 'example,', 'you', 'can', 'usethe', 'ratio', 'of', 'correctly', 'classified', 'emails.', 'This', 'particular', 'performance', 'measure', 'is', 'calledaccuracy', 'and', 'it', 'is', 'often', 'used', 'in', 'classification', 'tasks.If', 'you', 'just', 'download', 'a', 'copy', 'of', 'Wikipedia,', 'your', 'computer', 'has', 'a', 'l']\n",
      "\n",
      "               ....Counting....\n",
      "\n",
      "Counts {'If': 2, 'you': 5, 'already': 1, 'know': 1, 'all': 1, 'the': 11, 'Machine': 3, 'Learning': 4, 'basics,': 1, 'may': 1, 'wantto': 1, 'skip': 1, 'directly': 1, 'to': 9, 'Chapter': 1, '2.': 1, 'are': 1, 'not': 1, 'sure,': 1, 'try': 1, 'answer': 1, 'allthe': 1, 'questions': 1, 'listed': 1, 'at': 1, 'end': 1, 'of': 7, 'chapter': 1, 'before': 1, 'moving': 1, 'on.What': 1, 'Is': 1, 'Learning?Machine': 1, 'is': 10, 'science': 1, '(and': 1, 'art)': 1, 'programming': 1, 'computers': 2, 'so': 1, 'they': 1, 'canlearn': 1, 'from': 2, 'data.Here': 1, 'a': 6, 'slightly': 1, 'more': 2, 'general': 1, 'definition:[Machine': 1, 'the]': 1, 'field': 1, 'study': 1, 'that': 3, 'gives': 1, 'ability': 1, 'learnwithout': 1, 'being': 1, 'explicitly': 1, 'programmed.—Arthur': 1, 'Samuel,': 1, '1959And': 1, 'engineering-oriented': 1, 'one:A': 1, 'computer': 2, 'program': 2, 'said': 1, 'learn': 3, 'experience': 3, 'E': 2, 'with': 1, 'respect': 1, 'some': 2, 'task': 2, 'Tand': 1, 'performance': 4, 'measure': 3, 'P,': 2, 'if': 1, 'its': 1, 'on': 1, 'T,': 1, 'as': 1, 'measured': 1, 'by': 2, 'improveswith': 1, 'E.—Tom': 1, 'Mitchell,': 1, '1997For': 1, 'example,': 2, 'your': 2, 'spam': 3, 'filter': 1, 'can': 2, 'flagspam': 1, 'given': 1, 'examples': 3, 'emails': 1, '(e.g.,': 1, 'flagged': 1, 'users)': 1, 'and': 3, 'regular(nonspam,': 1, 'also': 1, 'called': 2, '“ham”)': 1, 'emails.': 2, 'The': 1, 'system': 1, 'uses': 1, 'arecalled': 1, 'training': 3, 'set.': 1, 'Each': 1, 'example': 1, 'instance': 1, '(or': 1, 'sample).In': 1, 'this': 1, 'case,': 1, 'T': 1, 'flag': 1, 'for': 2, 'new': 1, 'emails,': 1, 'trainingdata,': 1, 'P': 1, 'needs': 1, 'be': 1, 'defined;': 1, 'usethe': 1, 'ratio': 1, 'correctly': 1, 'classified': 1, 'This': 1, 'particular': 1, 'calledaccuracy': 1, 'it': 1, 'often': 1, 'used': 1, 'in': 1, 'classification': 1, 'tasks.If': 1, 'just': 1, 'download': 1, 'copy': 1, 'Wikipedia,': 1, 'has': 1, 'l': 1}\n"
     ]
    }
   ],
   "source": [
    "counts =dict()\n",
    "print('Enter a line of text')\n",
    "line = input('')\n",
    "words = line.split()\n",
    "print('words:', words)\n",
    "print('\\n               ....Counting....\\n')\n",
    "for word in words:\n",
    "    counts[word] = counts.get(word,0) + 1\n",
    "print('Counts', counts)\n",
    "\n"
   ]
  },
  {
   "cell_type": "code",
   "execution_count": 19,
   "metadata": {},
   "outputs": [
    {
     "name": "stdout",
     "output_type": "stream",
     "text": [
      "['If', 'you', 'already', 'know', 'all', 'the', 'Machine', 'Learning', 'basics,', 'may', 'wantto', 'skip', 'directly', 'to', 'Chapter', '2.', 'are', 'not', 'sure,', 'try', 'answer', 'allthe', 'questions', 'listed', 'at', 'end', 'of', 'chapter', 'before', 'moving', 'on.What', 'Is', 'Learning?Machine', 'is', 'science', '(and', 'art)', 'programming', 'computers', 'so', 'they', 'canlearn', 'from', 'data.Here', 'a', 'slightly', 'more', 'general', 'definition:[Machine', 'the]', 'field', 'study', 'that', 'gives', 'ability', 'learnwithout', 'being', 'explicitly', 'programmed.—Arthur', 'Samuel,', '1959And', 'engineering-oriented', 'one:A', 'computer', 'program', 'said', 'learn', 'experience', 'E', 'with', 'respect', 'some', 'task', 'Tand', 'performance', 'measure', 'P,', 'if', 'its', 'on', 'T,', 'as', 'measured', 'by', 'improveswith', 'E.—Tom', 'Mitchell,', '1997For', 'example,', 'your', 'spam', 'filter', 'can', 'flagspam', 'given', 'examples', 'emails', '(e.g.,', 'flagged', 'users)', 'and', 'regular(nonspam,', 'also', 'called', '“ham”)', 'emails.', 'The', 'system', 'uses', 'arecalled', 'training', 'set.', 'Each', 'example', 'instance', '(or', 'sample).In', 'this', 'case,', 'T', 'flag', 'for', 'new', 'emails,', 'trainingdata,', 'P', 'needs', 'be', 'defined;', 'usethe', 'ratio', 'correctly', 'classified', 'This', 'particular', 'calledaccuracy', 'it', 'often', 'used', 'in', 'classification', 'tasks.If', 'just', 'download', 'copy', 'Wikipedia,', 'has', 'l']\n"
     ]
    }
   ],
   "source": [
    "print(list(counts))"
   ]
  },
  {
   "cell_type": "code",
   "execution_count": 22,
   "metadata": {},
   "outputs": [
    {
     "name": "stdout",
     "output_type": "stream",
     "text": [
      "dict_keys(['If', 'you', 'already', 'know', 'all', 'the', 'Machine', 'Learning', 'basics,', 'may', 'wantto', 'skip', 'directly', 'to', 'Chapter', '2.', 'are', 'not', 'sure,', 'try', 'answer', 'allthe', 'questions', 'listed', 'at', 'end', 'of', 'chapter', 'before', 'moving', 'on.What', 'Is', 'Learning?Machine', 'is', 'science', '(and', 'art)', 'programming', 'computers', 'so', 'they', 'canlearn', 'from', 'data.Here', 'a', 'slightly', 'more', 'general', 'definition:[Machine', 'the]', 'field', 'study', 'that', 'gives', 'ability', 'learnwithout', 'being', 'explicitly', 'programmed.—Arthur', 'Samuel,', '1959And', 'engineering-oriented', 'one:A', 'computer', 'program', 'said', 'learn', 'experience', 'E', 'with', 'respect', 'some', 'task', 'Tand', 'performance', 'measure', 'P,', 'if', 'its', 'on', 'T,', 'as', 'measured', 'by', 'improveswith', 'E.—Tom', 'Mitchell,', '1997For', 'example,', 'your', 'spam', 'filter', 'can', 'flagspam', 'given', 'examples', 'emails', '(e.g.,', 'flagged', 'users)', 'and', 'regular(nonspam,', 'also', 'called', '“ham”)', 'emails.', 'The', 'system', 'uses', 'arecalled', 'training', 'set.', 'Each', 'example', 'instance', '(or', 'sample).In', 'this', 'case,', 'T', 'flag', 'for', 'new', 'emails,', 'trainingdata,', 'P', 'needs', 'be', 'defined;', 'usethe', 'ratio', 'correctly', 'classified', 'This', 'particular', 'calledaccuracy', 'it', 'often', 'used', 'in', 'classification', 'tasks.If', 'just', 'download', 'copy', 'Wikipedia,', 'has', 'l'])\n"
     ]
    }
   ],
   "source": [
    "print(counts.keys())\n"
   ]
  },
  {
   "cell_type": "code",
   "execution_count": 23,
   "metadata": {},
   "outputs": [
    {
     "name": "stdout",
     "output_type": "stream",
     "text": [
      "dict_values([2, 5, 1, 1, 1, 11, 3, 4, 1, 1, 1, 1, 1, 9, 1, 1, 1, 1, 1, 1, 1, 1, 1, 1, 1, 1, 7, 1, 1, 1, 1, 1, 1, 10, 1, 1, 1, 1, 2, 1, 1, 1, 2, 1, 6, 1, 2, 1, 1, 1, 1, 1, 3, 1, 1, 1, 1, 1, 1, 1, 1, 1, 1, 2, 2, 1, 3, 3, 2, 1, 1, 2, 2, 1, 4, 3, 2, 1, 1, 1, 1, 1, 1, 2, 1, 1, 1, 1, 2, 2, 3, 1, 2, 1, 1, 3, 1, 1, 1, 1, 3, 1, 1, 2, 1, 2, 1, 1, 1, 1, 3, 1, 1, 1, 1, 1, 1, 1, 1, 1, 1, 2, 1, 1, 1, 1, 1, 1, 1, 1, 1, 1, 1, 1, 1, 1, 1, 1, 1, 1, 1, 1, 1, 1, 1, 1, 1, 1])\n"
     ]
    }
   ],
   "source": [
    "print(counts.values())\n"
   ]
  },
  {
   "cell_type": "code",
   "execution_count": 24,
   "metadata": {},
   "outputs": [
    {
     "name": "stdout",
     "output_type": "stream",
     "text": [
      "dict_items([('If', 2), ('you', 5), ('already', 1), ('know', 1), ('all', 1), ('the', 11), ('Machine', 3), ('Learning', 4), ('basics,', 1), ('may', 1), ('wantto', 1), ('skip', 1), ('directly', 1), ('to', 9), ('Chapter', 1), ('2.', 1), ('are', 1), ('not', 1), ('sure,', 1), ('try', 1), ('answer', 1), ('allthe', 1), ('questions', 1), ('listed', 1), ('at', 1), ('end', 1), ('of', 7), ('chapter', 1), ('before', 1), ('moving', 1), ('on.What', 1), ('Is', 1), ('Learning?Machine', 1), ('is', 10), ('science', 1), ('(and', 1), ('art)', 1), ('programming', 1), ('computers', 2), ('so', 1), ('they', 1), ('canlearn', 1), ('from', 2), ('data.Here', 1), ('a', 6), ('slightly', 1), ('more', 2), ('general', 1), ('definition:[Machine', 1), ('the]', 1), ('field', 1), ('study', 1), ('that', 3), ('gives', 1), ('ability', 1), ('learnwithout', 1), ('being', 1), ('explicitly', 1), ('programmed.—Arthur', 1), ('Samuel,', 1), ('1959And', 1), ('engineering-oriented', 1), ('one:A', 1), ('computer', 2), ('program', 2), ('said', 1), ('learn', 3), ('experience', 3), ('E', 2), ('with', 1), ('respect', 1), ('some', 2), ('task', 2), ('Tand', 1), ('performance', 4), ('measure', 3), ('P,', 2), ('if', 1), ('its', 1), ('on', 1), ('T,', 1), ('as', 1), ('measured', 1), ('by', 2), ('improveswith', 1), ('E.—Tom', 1), ('Mitchell,', 1), ('1997For', 1), ('example,', 2), ('your', 2), ('spam', 3), ('filter', 1), ('can', 2), ('flagspam', 1), ('given', 1), ('examples', 3), ('emails', 1), ('(e.g.,', 1), ('flagged', 1), ('users)', 1), ('and', 3), ('regular(nonspam,', 1), ('also', 1), ('called', 2), ('“ham”)', 1), ('emails.', 2), ('The', 1), ('system', 1), ('uses', 1), ('arecalled', 1), ('training', 3), ('set.', 1), ('Each', 1), ('example', 1), ('instance', 1), ('(or', 1), ('sample).In', 1), ('this', 1), ('case,', 1), ('T', 1), ('flag', 1), ('for', 2), ('new', 1), ('emails,', 1), ('trainingdata,', 1), ('P', 1), ('needs', 1), ('be', 1), ('defined;', 1), ('usethe', 1), ('ratio', 1), ('correctly', 1), ('classified', 1), ('This', 1), ('particular', 1), ('calledaccuracy', 1), ('it', 1), ('often', 1), ('used', 1), ('in', 1), ('classification', 1), ('tasks.If', 1), ('just', 1), ('download', 1), ('copy', 1), ('Wikipedia,', 1), ('has', 1), ('l', 1)])\n"
     ]
    }
   ],
   "source": [
    "print(counts.items())"
   ]
  },
  {
   "cell_type": "code",
   "execution_count": 25,
   "metadata": {},
   "outputs": [
    {
     "name": "stdout",
     "output_type": "stream",
     "text": [
      "If 2\n",
      "you 5\n",
      "already 1\n",
      "know 1\n",
      "all 1\n",
      "the 11\n",
      "Machine 3\n",
      "Learning 4\n",
      "basics, 1\n",
      "may 1\n",
      "wantto 1\n",
      "skip 1\n",
      "directly 1\n",
      "to 9\n",
      "Chapter 1\n",
      "2. 1\n",
      "are 1\n",
      "not 1\n",
      "sure, 1\n",
      "try 1\n",
      "answer 1\n",
      "allthe 1\n",
      "questions 1\n",
      "listed 1\n",
      "at 1\n",
      "end 1\n",
      "of 7\n",
      "chapter 1\n",
      "before 1\n",
      "moving 1\n",
      "on.What 1\n",
      "Is 1\n",
      "Learning?Machine 1\n",
      "is 10\n",
      "science 1\n",
      "(and 1\n",
      "art) 1\n",
      "programming 1\n",
      "computers 2\n",
      "so 1\n",
      "they 1\n",
      "canlearn 1\n",
      "from 2\n",
      "data.Here 1\n",
      "a 6\n",
      "slightly 1\n",
      "more 2\n",
      "general 1\n",
      "definition:[Machine 1\n",
      "the] 1\n",
      "field 1\n",
      "study 1\n",
      "that 3\n",
      "gives 1\n",
      "ability 1\n",
      "learnwithout 1\n",
      "being 1\n",
      "explicitly 1\n",
      "programmed.—Arthur 1\n",
      "Samuel, 1\n",
      "1959And 1\n",
      "engineering-oriented 1\n",
      "one:A 1\n",
      "computer 2\n",
      "program 2\n",
      "said 1\n",
      "learn 3\n",
      "experience 3\n",
      "E 2\n",
      "with 1\n",
      "respect 1\n",
      "some 2\n",
      "task 2\n",
      "Tand 1\n",
      "performance 4\n",
      "measure 3\n",
      "P, 2\n",
      "if 1\n",
      "its 1\n",
      "on 1\n",
      "T, 1\n",
      "as 1\n",
      "measured 1\n",
      "by 2\n",
      "improveswith 1\n",
      "E.—Tom 1\n",
      "Mitchell, 1\n",
      "1997For 1\n",
      "example, 2\n",
      "your 2\n",
      "spam 3\n",
      "filter 1\n",
      "can 2\n",
      "flagspam 1\n",
      "given 1\n",
      "examples 3\n",
      "emails 1\n",
      "(e.g., 1\n",
      "flagged 1\n",
      "users) 1\n",
      "and 3\n",
      "regular(nonspam, 1\n",
      "also 1\n",
      "called 2\n",
      "“ham”) 1\n",
      "emails. 2\n",
      "The 1\n",
      "system 1\n",
      "uses 1\n",
      "arecalled 1\n",
      "training 3\n",
      "set. 1\n",
      "Each 1\n",
      "example 1\n",
      "instance 1\n",
      "(or 1\n",
      "sample).In 1\n",
      "this 1\n",
      "case, 1\n",
      "T 1\n",
      "flag 1\n",
      "for 2\n",
      "new 1\n",
      "emails, 1\n",
      "trainingdata, 1\n",
      "P 1\n",
      "needs 1\n",
      "be 1\n",
      "defined; 1\n",
      "usethe 1\n",
      "ratio 1\n",
      "correctly 1\n",
      "classified 1\n",
      "This 1\n",
      "particular 1\n",
      "calledaccuracy 1\n",
      "it 1\n",
      "often 1\n",
      "used 1\n",
      "in 1\n",
      "classification 1\n",
      "tasks.If 1\n",
      "just 1\n",
      "download 1\n",
      "copy 1\n",
      "Wikipedia, 1\n",
      "has 1\n",
      "l 1\n"
     ]
    }
   ],
   "source": [
    "for key,values in counts.items():\n",
    "    print(key,values)\n"
   ]
  },
  {
   "cell_type": "code",
   "execution_count": 26,
   "metadata": {},
   "outputs": [
    {
     "ename": "KeyError",
     "evalue": "'candy'",
     "output_type": "error",
     "traceback": [
      "\u001b[1;31m---------------------------------------------------------------------------\u001b[0m",
      "\u001b[1;31mKeyError\u001b[0m                                  Traceback (most recent call last)",
      "\u001b[1;32m<ipython-input-26-928189c0281a>\u001b[0m in \u001b[0;36m<module>\u001b[1;34m\u001b[0m\n\u001b[0;32m      1\u001b[0m \u001b[0mstuff\u001b[0m \u001b[1;33m=\u001b[0m \u001b[0mdict\u001b[0m\u001b[1;33m(\u001b[0m\u001b[1;33m)\u001b[0m\u001b[1;33m\u001b[0m\u001b[1;33m\u001b[0m\u001b[0m\n\u001b[1;32m----> 2\u001b[1;33m \u001b[0mprint\u001b[0m\u001b[1;33m(\u001b[0m\u001b[0mstuff\u001b[0m\u001b[1;33m[\u001b[0m\u001b[1;34m'candy'\u001b[0m\u001b[1;33m]\u001b[0m\u001b[1;33m)\u001b[0m\u001b[1;33m\u001b[0m\u001b[1;33m\u001b[0m\u001b[0m\n\u001b[0m",
      "\u001b[1;31mKeyError\u001b[0m: 'candy'"
     ]
    }
   ],
   "source": [
    "stuff = dict()\n",
    "print(stuff['candy'])"
   ]
  },
  {
   "cell_type": "code",
   "execution_count": 27,
   "metadata": {},
   "outputs": [
    {
     "name": "stdout",
     "output_type": "stream",
     "text": [
      "-1\n"
     ]
    }
   ],
   "source": [
    "print(stuff.get('candy',-1))"
   ]
  },
  {
   "cell_type": "code",
   "execution_count": 28,
   "metadata": {},
   "outputs": [
    {
     "name": "stdout",
     "output_type": "stream",
     "text": [
      "yes\n"
     ]
    }
   ],
   "source": [
    "lst = [3,7,9,2]\n",
    "if lst[0]==3:\n",
    "    print('yes')"
   ]
  },
  {
   "cell_type": "code",
   "execution_count": null,
   "metadata": {},
   "outputs": [],
   "source": []
  }
 ],
 "metadata": {
  "kernelspec": {
   "display_name": "Python 3",
   "language": "python",
   "name": "python3"
  },
  "language_info": {
   "codemirror_mode": {
    "name": "ipython",
    "version": 3
   },
   "file_extension": ".py",
   "mimetype": "text/x-python",
   "name": "python",
   "nbconvert_exporter": "python",
   "pygments_lexer": "ipython3",
   "version": "3.8.5"
  }
 },
 "nbformat": 4,
 "nbformat_minor": 4
}
